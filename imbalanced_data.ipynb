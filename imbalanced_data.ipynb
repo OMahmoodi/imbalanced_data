{
 "cells": [
  {
   "cell_type": "markdown",
   "id": "f4ffae5e",
   "metadata": {},
   "source": [
    "## Imbalanced data\n",
    "It is common to come across an imbalanced dataset while working on **classification problems** such fraud detection, spam detection, or mapping natural resource occurrences. \n",
    "An imbalanced dataset is one that contains unequal number of samples from each class.\n",
    "\n",
    "### Severe vs. slight imbalance\n",
    "Depending on the ratio of samples belonging to the **minority** and **majority** classes, the imbalance can range from slight to severe.\n",
    "\n",
    "It is reasonable to treat a dataset with a slight imbalance (e.g. 2:3) as if it were normal; however, more severe cases of imbalance (e.g. 1:4 or more) need to be corrected and require extra effort.\n",
    "\n",
    "While training a model on a datset with slight imbalance, class weighting is a tool for penalizing the model for misclassified minority class samples, causing the model to pay greater attention to the minority class.\n",
    "\n",
    "### What does an imbalanced dataset do to a model? \n",
    "Due to the abundance of samples in the training dataset, a model that is trained on an imbalanced dataset is highly controlled by the characteristics of the majority class. \n",
    "\n",
    "Because learning characteristics from a limited number of samples is challenging for the model, it performs poorly for the minority class, which may not even be reflected in a performance metric like accuracy due to the **accuracy paradox**.\n",
    "\n",
    "For imbalanced datasets, metrics such as accuracy can be misleading. Instead, parameters should be used that are less sensitive to True Negative (Negative represents the dominant class) samples. It is always a good idea to look at the confusion matrix. "
   ]
  },
  {
   "cell_type": "markdown",
   "id": "d15f1301",
   "metadata": {},
   "source": [
    "## How to tackle imbalanced dataset?\n",
    "**This notebook will walk you through the steps for dealing with an imbalanced dataset using an example of a real project that I recently completed.**"
   ]
  },
  {
   "cell_type": "code",
   "execution_count": 1,
   "id": "fd00cb09",
   "metadata": {},
   "outputs": [],
   "source": [
    "import pandas as pd\n",
    "from sklearn.model_selection import train_test_split"
   ]
  },
  {
   "cell_type": "code",
   "execution_count": 2,
   "id": "255133d4",
   "metadata": {},
   "outputs": [],
   "source": [
    "import os\n",
    "# os.chdir('...\\\\imbalanced_data')\n",
    "%config Completer.use_jedi = False\n",
    "pd.options.display.float_format = \"{:,.2f}\".format"
   ]
  },
  {
   "cell_type": "code",
   "execution_count": 3,
   "id": "46fd95a7",
   "metadata": {},
   "outputs": [],
   "source": [
    "df=pd.read_csv('imbalanced_data.csv')"
   ]
  },
  {
   "cell_type": "markdown",
   "id": "94679cff",
   "metadata": {},
   "source": [
    "The first  two columns contains the spatial information (coordinates). The next five columns are predictor variables, and the last column is the target variable  "
   ]
  },
  {
   "cell_type": "code",
   "execution_count": 4,
   "id": "72b1302e",
   "metadata": {},
   "outputs": [
    {
     "data": {
      "text/html": [
       "<div>\n",
       "<style scoped>\n",
       "    .dataframe tbody tr th:only-of-type {\n",
       "        vertical-align: middle;\n",
       "    }\n",
       "\n",
       "    .dataframe tbody tr th {\n",
       "        vertical-align: top;\n",
       "    }\n",
       "\n",
       "    .dataframe thead th {\n",
       "        text-align: right;\n",
       "    }\n",
       "</style>\n",
       "<table border=\"1\" class=\"dataframe\">\n",
       "  <thead>\n",
       "    <tr style=\"text-align: right;\">\n",
       "      <th></th>\n",
       "      <th>x</th>\n",
       "      <th>y</th>\n",
       "      <th>geo_code</th>\n",
       "      <th>distance</th>\n",
       "      <th>vertical_der</th>\n",
       "      <th>analytic_signal</th>\n",
       "      <th>mag_field</th>\n",
       "      <th>Target</th>\n",
       "    </tr>\n",
       "  </thead>\n",
       "  <tbody>\n",
       "    <tr>\n",
       "      <th>0</th>\n",
       "      <td>603,412.50</td>\n",
       "      <td>6,181,212.40</td>\n",
       "      <td>10</td>\n",
       "      <td>4,011.23</td>\n",
       "      <td>-0.02</td>\n",
       "      <td>0.16</td>\n",
       "      <td>28.89</td>\n",
       "      <td>0</td>\n",
       "    </tr>\n",
       "    <tr>\n",
       "      <th>1</th>\n",
       "      <td>603,512.50</td>\n",
       "      <td>6,181,212.40</td>\n",
       "      <td>10</td>\n",
       "      <td>4,005.00</td>\n",
       "      <td>-0.07</td>\n",
       "      <td>0.18</td>\n",
       "      <td>16.62</td>\n",
       "      <td>0</td>\n",
       "    </tr>\n",
       "    <tr>\n",
       "      <th>2</th>\n",
       "      <td>603,612.50</td>\n",
       "      <td>6,181,212.40</td>\n",
       "      <td>10</td>\n",
       "      <td>4,001.25</td>\n",
       "      <td>-0.13</td>\n",
       "      <td>0.20</td>\n",
       "      <td>2.78</td>\n",
       "      <td>0</td>\n",
       "    </tr>\n",
       "    <tr>\n",
       "      <th>3</th>\n",
       "      <td>603,712.50</td>\n",
       "      <td>6,181,212.40</td>\n",
       "      <td>10</td>\n",
       "      <td>4,000.00</td>\n",
       "      <td>-0.15</td>\n",
       "      <td>0.20</td>\n",
       "      <td>-8.25</td>\n",
       "      <td>0</td>\n",
       "    </tr>\n",
       "    <tr>\n",
       "      <th>4</th>\n",
       "      <td>603,812.50</td>\n",
       "      <td>6,181,212.40</td>\n",
       "      <td>10</td>\n",
       "      <td>4,001.25</td>\n",
       "      <td>-0.19</td>\n",
       "      <td>0.22</td>\n",
       "      <td>-16.52</td>\n",
       "      <td>0</td>\n",
       "    </tr>\n",
       "  </tbody>\n",
       "</table>\n",
       "</div>"
      ],
      "text/plain": [
       "           x            y  geo_code  distance  vertical_der  analytic_signal  \\\n",
       "0 603,412.50 6,181,212.40        10  4,011.23         -0.02             0.16   \n",
       "1 603,512.50 6,181,212.40        10  4,005.00         -0.07             0.18   \n",
       "2 603,612.50 6,181,212.40        10  4,001.25         -0.13             0.20   \n",
       "3 603,712.50 6,181,212.40        10  4,000.00         -0.15             0.20   \n",
       "4 603,812.50 6,181,212.40        10  4,001.25         -0.19             0.22   \n",
       "\n",
       "   mag_field  Target  \n",
       "0      28.89       0  \n",
       "1      16.62       0  \n",
       "2       2.78       0  \n",
       "3      -8.25       0  \n",
       "4     -16.52       0  "
      ]
     },
     "execution_count": 4,
     "metadata": {},
     "output_type": "execute_result"
    }
   ],
   "source": [
    "df.head()"
   ]
  },
  {
   "cell_type": "code",
   "execution_count": 5,
   "id": "b430a588",
   "metadata": {},
   "outputs": [
    {
     "name": "stdout",
     "output_type": "stream",
     "text": [
      "<class 'pandas.core.frame.DataFrame'>\n",
      "RangeIndex: 38133 entries, 0 to 38132\n",
      "Data columns (total 8 columns):\n",
      " #   Column           Non-Null Count  Dtype  \n",
      "---  ------           --------------  -----  \n",
      " 0   x                38133 non-null  float64\n",
      " 1   y                38133 non-null  float64\n",
      " 2   geo_code         38133 non-null  int64  \n",
      " 3   distance         38133 non-null  float64\n",
      " 4   vertical_der     38133 non-null  float64\n",
      " 5   analytic_signal  38133 non-null  float64\n",
      " 6   mag_field        38133 non-null  float64\n",
      " 7   Target           38133 non-null  int64  \n",
      "dtypes: float64(6), int64(2)\n",
      "memory usage: 2.3 MB\n"
     ]
    }
   ],
   "source": [
    "df.info()"
   ]
  },
  {
   "cell_type": "markdown",
   "id": "ac2e86a8",
   "metadata": {},
   "source": [
    "### First step: Determine if imbalance exists and what is causing the imbalance\n",
    " \n",
    "- If the problem is caused by data collection bias or inaccuracy (for example, samples obtained from only one class or samples improperly labelled), improving sampling methods and measurements can fix the problem with obtaining more data from the minority class. \n",
    "\n",
    "\n",
    "- In some cases, particularly in the study of natural resources, imbalance is a problem domain characteristic. It means the natural occurrence of one class is more dominant than other classes. Repeating the process or gathering more samples will not solve the problem in this scenario. "
   ]
  },
  {
   "cell_type": "code",
   "execution_count": 6,
   "id": "840baf4b",
   "metadata": {},
   "outputs": [
    {
     "data": {
      "text/plain": [
       "0    37768\n",
       "1      365\n",
       "Name: Target, dtype: int64"
      ]
     },
     "execution_count": 6,
     "metadata": {},
     "output_type": "execute_result"
    }
   ],
   "source": [
    "df['Target'].value_counts()"
   ]
  },
  {
   "cell_type": "markdown",
   "id": "78b52b97",
   "metadata": {},
   "source": [
    "**Insight:** The dataset is severly imbalanced with less than 1% of the samples belonging to the target (minority class). Since the target class (minority class) represent the location of natural resource occurrences in an area, it is expected to see such sever imbalance in the dataset. As mentioned above, it is a problem domain characteristic. "
   ]
  },
  {
   "cell_type": "code",
   "execution_count": 7,
   "id": "c1e27000",
   "metadata": {},
   "outputs": [
    {
     "name": "stdout",
     "output_type": "stream",
     "text": [
      "Percentage of the minority class: 0.96 %\n"
     ]
    }
   ],
   "source": [
    "print('Percentage of the minority class: {:.2f} %'.format((df['Target'].sum()/len(df))*100))"
   ]
  },
  {
   "cell_type": "markdown",
   "id": "decf9a54",
   "metadata": {},
   "source": [
    "### Second step: Resampling the dataset"
   ]
  },
  {
   "cell_type": "markdown",
   "id": "1f3d88bb",
   "metadata": {},
   "source": [
    "### a) Undersampling \n",
    "If there are enough samples of the minority class (but they are significantly less than the number of majority class samples), some samples from the dominant class can be removed from the training dataset to achieve a balanced class distribution. This is referred to as under-sampling.\n",
    "\n",
    "First we need to look at the number of samples from the minority class. If there are enough samples to train an algorithm, we can select the same number of samples from the majority class.\n",
    "\n",
    "**Analysis:** For my dataset, there is only 365 samples from the target class. If I apply undersampling and select 365 samples from the majority class, I would have 730 samples in total, which does not seem enough to train and test an algorithm (considering the size of the majority class). In other words, 365 samples would not be a reliable represantative dataset for the majority class.\n",
    "\n",
    "The following cell describes the process, in case undersampling seems a suitable fix for your dataset."
   ]
  },
  {
   "cell_type": "code",
   "execution_count": 8,
   "id": "f4ab7b5c",
   "metadata": {},
   "outputs": [],
   "source": [
    "# number of sminority class samples\n",
    "n_minority=len(df[df['Target']==1])\n",
    "\n",
    "# selects all samples from the minority class and selects the same number of samples as the minority class\n",
    "\n",
    "undersampled_balanced_df= df.groupby('Target', as_index=False, group_keys=False ).apply(\n",
    "    lambda x: x.sample(frac=1) if x.name==1 else x.sample(n=n_minority))"
   ]
  },
  {
   "cell_type": "code",
   "execution_count": 9,
   "id": "ff716f96",
   "metadata": {},
   "outputs": [
    {
     "data": {
      "text/plain": [
       "730"
      ]
     },
     "execution_count": 9,
     "metadata": {},
     "output_type": "execute_result"
    }
   ],
   "source": [
    "# total number of samples\n",
    "len(undersampled_balanced_df)"
   ]
  },
  {
   "cell_type": "code",
   "execution_count": 10,
   "id": "d18f3a05",
   "metadata": {},
   "outputs": [
    {
     "data": {
      "text/plain": [
       "0    365\n",
       "1    365\n",
       "Name: Target, dtype: int64"
      ]
     },
     "execution_count": 10,
     "metadata": {},
     "output_type": "execute_result"
    }
   ],
   "source": [
    "# number of samples for each class in the balanced dataset (which is equal to the number of samples of the minority class)\n",
    "undersampled_balanced_df['Target'].value_counts()"
   ]
  },
  {
   "cell_type": "code",
   "execution_count": 11,
   "id": "7a7e938e",
   "metadata": {},
   "outputs": [],
   "source": [
    "X=undersampled_balanced_df.drop(['x','y','Target'], axis=1)\n",
    "y=undersampled_balanced_df['Target']\n",
    "X_train_under, X_test_under, y_train_under, y_test_under= train_test_split(X, y,stratify=y, test_size=0.3)"
   ]
  },
  {
   "cell_type": "markdown",
   "id": "d284a4ca",
   "metadata": {},
   "source": [
    "Now, a model can be trained on **X_train_under, y_train_under** and tested on **X_test_under, y_test_under**"
   ]
  },
  {
   "cell_type": "markdown",
   "id": "22d1f931",
   "metadata": {},
   "source": [
    "### b) Over-sampling:\n",
    "The opposite of under-sampling (also known as over-sampling) can also be done by duplicating some samples from the minority class.\n",
    "\n",
    "It is recommended that random undersampling be used first to reduce the number of samples in the majority class, followed by oversampling the minority class to balance the class distribution. \n",
    "\n",
    "\n",
    "**It should be noted that any over-sampling process can only be performed on training datasets, not test data,** becasue creating duplicated samples in the test data artificially increases the accuracy. So, we need to create a test dataset first for evaluating the model, and perform oversampling on the training data only.\n",
    "\n",
    "RandomOverSampler (from imblearn library) creates an object to over-sample the minority class by picking samples at random with replacement."
   ]
  },
  {
   "cell_type": "code",
   "execution_count": 12,
   "id": "c7dd79ea",
   "metadata": {},
   "outputs": [],
   "source": [
    "from imblearn.over_sampling import RandomOverSampler"
   ]
  },
  {
   "cell_type": "code",
   "execution_count": 13,
   "id": "b08309c2",
   "metadata": {},
   "outputs": [],
   "source": [
    "# undersampling the majority class-- selects all samples from the minority class and 60 % of samples of the majority class \n",
    "# selecting 60 % was entirely arbitrary, and it can be changed to any fraction based on your dataset\n",
    "\n",
    "df_u_frac= df.groupby('Target', as_index=False, group_keys=False ).apply(\n",
    "    lambda x: x.sample(frac=1) if x.name==1 else x.sample(frac=0.6))"
   ]
  },
  {
   "cell_type": "code",
   "execution_count": 14,
   "id": "7ea023ae",
   "metadata": {},
   "outputs": [],
   "source": [
    "# X_test and y_test must remain intact during this process, so they must be created prior to oversampling\n",
    "\n",
    "X= df_u_frac.drop(['x','y','Target'], axis=1)\n",
    "y= df_u_frac['Target']\n",
    "\n",
    "X_train, X_test, y_train, y_test= train_test_split(X, y,stratify=y, test_size=0.3)"
   ]
  },
  {
   "cell_type": "code",
   "execution_count": 15,
   "id": "80bfb63f",
   "metadata": {},
   "outputs": [],
   "source": [
    "# sampling_strategy='minority' specifies only the minority class is resampled. \n",
    "rovs= RandomOverSampler(sampling_strategy='minority')\n",
    "\n",
    "# balanced training data\n",
    "X_train_over, y_train_over= rovs.fit_resample(X_train, y_train)"
   ]
  },
  {
   "cell_type": "markdown",
   "id": "000f69f8",
   "metadata": {},
   "source": [
    "Now, a model can be trained on **X_train_over, y_train_over** and tested on **X_test and y_test**"
   ]
  },
  {
   "cell_type": "code",
   "execution_count": 16,
   "id": "53c6f9fc",
   "metadata": {},
   "outputs": [
    {
     "data": {
      "text/plain": [
       "0    15863\n",
       "1    15863\n",
       "Name: Target, dtype: int64"
      ]
     },
     "execution_count": 16,
     "metadata": {},
     "output_type": "execute_result"
    }
   ],
   "source": [
    "# the number of samples for each class in the training data (which is equl to 60% of the majority class samples)\n",
    "y_train_over.value_counts()"
   ]
  },
  {
   "cell_type": "markdown",
   "id": "52ff55c5",
   "metadata": {},
   "source": [
    "### c) Generate synthetic samples:\n",
    "As an alternetive to oversampling (creating copies), synthetic samples can be created from the minor class. These samples are not duplicates of the original samples, but they have the same characteristics as the minority class.\n",
    "\n",
    "**SMOTE** (Synthetic Minority Over-sampling Technique) and **SMOTETomek** are two examples of synthetic data generation algorithms. These algorithms sample attributes at random from relatively similar instances in the minority class.\n",
    "\n",
    "- **SMOTE** works by selecting examples that are close in the feature space, drawing a line between the examples in the feature space and generating a new sample at a point along that line. \n",
    "\n",
    "\n",
    "- **SMOTETomek** combines over-sampling the minority class using SMOTE followed by under-sampling the majority class using Tomek Links. The latter removes (clean) samples from the majority class that are closest to the minority class in the feature space in order to make the boundaries between classes less noisy or ambiguous. "
   ]
  },
  {
   "cell_type": "code",
   "execution_count": 17,
   "id": "98fe860c",
   "metadata": {},
   "outputs": [],
   "source": [
    "from imblearn.combine import SMOTETomek"
   ]
  },
  {
   "cell_type": "code",
   "execution_count": 18,
   "id": "4bff85e9",
   "metadata": {},
   "outputs": [],
   "source": [
    "smt = SMOTETomek(sampling_strategy='auto')"
   ]
  },
  {
   "cell_type": "code",
   "execution_count": 19,
   "id": "1f6284ab",
   "metadata": {},
   "outputs": [],
   "source": [
    "# selects all samples from the minority class and 60 % of samples of the majority class \n",
    "df_u_frac= df.groupby('Target', as_index=False, group_keys=False ).apply(\n",
    "    lambda x: x.sample(frac=1) if x.name==1 else x.sample(frac=0.6))"
   ]
  },
  {
   "cell_type": "code",
   "execution_count": 20,
   "id": "e0243f41",
   "metadata": {},
   "outputs": [],
   "source": [
    "X= df_u_frac.drop(['x','y','Target'], axis=1)\n",
    "y= df_u_frac['Target']\n",
    "\n",
    "# X_test and y_test remain intact during this process\n",
    "X_train, X_test, y_train, y_test= train_test_split(X, y,stratify=y, test_size=0.3)"
   ]
  },
  {
   "cell_type": "code",
   "execution_count": 21,
   "id": "2b1f8fd7",
   "metadata": {},
   "outputs": [],
   "source": [
    "X_train_smt, y_train_smt = smt.fit_resample(X_train, y_train)"
   ]
  },
  {
   "cell_type": "code",
   "execution_count": 22,
   "id": "31ae7531",
   "metadata": {},
   "outputs": [
    {
     "data": {
      "text/plain": [
       "0    15650\n",
       "1    15650\n",
       "Name: Target, dtype: int64"
      ]
     },
     "execution_count": 22,
     "metadata": {},
     "output_type": "execute_result"
    }
   ],
   "source": [
    "# the number of samples for each class in the training data (which is less than 60% of the majority class samples) as some \n",
    "# samples were removed by Tomek method. \n",
    "y_train_smt.value_counts()"
   ]
  },
  {
   "cell_type": "markdown",
   "id": "52bd5c82",
   "metadata": {},
   "source": [
    "Now, a model can be trained on **X_train_smt, y_train_smt** and tested on **X_test and y_test**"
   ]
  },
  {
   "cell_type": "code",
   "execution_count": null,
   "id": "f1c9b858",
   "metadata": {},
   "outputs": [],
   "source": []
  }
 ],
 "metadata": {
  "kernelspec": {
   "display_name": "Python 3",
   "language": "python",
   "name": "python3"
  },
  "language_info": {
   "codemirror_mode": {
    "name": "ipython",
    "version": 3
   },
   "file_extension": ".py",
   "mimetype": "text/x-python",
   "name": "python",
   "nbconvert_exporter": "python",
   "pygments_lexer": "ipython3",
   "version": "3.8.10"
  }
 },
 "nbformat": 4,
 "nbformat_minor": 5
}
